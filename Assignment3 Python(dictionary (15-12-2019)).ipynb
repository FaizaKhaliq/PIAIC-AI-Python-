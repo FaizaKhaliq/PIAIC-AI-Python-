{
 "cells": [
  {
   "cell_type": "raw",
   "metadata": {},
   "source": [
    "Assignment # 3 (Python Dictionary)\n",
    "By: Faiza Khaliq (PIAIC 63301)\n",
    "batch 3 Islamabad (Time 12:15 - 3:15)\n"
   ]
  },
  {
   "cell_type": "markdown",
   "metadata": {},
   "source": [
    "# Dictionary Tasks"
   ]
  },
  {
   "cell_type": "markdown",
   "metadata": {},
   "source": [
    "# Task 1:\n",
    "Python Program to Add a Key-Value Pair to the Dictionary "
   ]
  },
  {
   "cell_type": "code",
   "execution_count": 4,
   "metadata": {},
   "outputs": [
    {
     "name": "stdout",
     "output_type": "stream",
     "text": [
      "Enter key: 3\n",
      "Enter value: c\n",
      "The updated dictionary is {1: 'a', 2: 'b', '3': 'c'}\n"
     ]
    }
   ],
   "source": [
    "key=input(\"Enter key: \")\n",
    "value=input(\"Enter value: \")\n",
    "dictionary={1:'a',2:'b'}\n",
    "dictionary.update({key:value})\n",
    "print(\"The updated dictionary is\",dictionary)"
   ]
  },
  {
   "cell_type": "markdown",
   "metadata": {},
   "source": [
    "# Task 2:\n",
    "Python Program to Concatenate Two Dictionaries Into One "
   ]
  },
  {
   "cell_type": "code",
   "execution_count": 5,
   "metadata": {},
   "outputs": [
    {
     "name": "stdout",
     "output_type": "stream",
     "text": [
      "Concatenated dictionary is:  {1: 'a', 2: 'b', 3: 'c', 4: 'd', 5: 'e', 6: 'f'}\n"
     ]
    }
   ],
   "source": [
    "dictionary1={1:'a',2:'b'}\n",
    "dictionary2={3:'c',4:'d',5:'e',6:'f'}\n",
    "\n",
    "dictionary1.update(dictionary2)\n",
    "print(\"Concatenated dictionary is: \", dictionary1)"
   ]
  },
  {
   "cell_type": "markdown",
   "metadata": {},
   "source": [
    "# Task 3:\n",
    "Python Program to Check if a Given Key Exists in a Dictionary or Not "
   ]
  },
  {
   "cell_type": "code",
   "execution_count": 8,
   "metadata": {},
   "outputs": [
    {
     "name": "stdout",
     "output_type": "stream",
     "text": [
      "Enter a key to check: c\n",
      "The key u enterend is present and it's value is:  cat\n"
     ]
    }
   ],
   "source": [
    "d={'a':'apple','b':'baloon','c':'cat','d':'dog',\"e\":'egg'}\n",
    "key=input(\"Enter a key to check: \")\n",
    "if key in(d.keys()):\n",
    "    print(\"The key u enterend is present and it's value is: \", d[key])\n",
    "else:\n",
    "    print(\"Key is not present\")"
   ]
  },
  {
   "cell_type": "markdown",
   "metadata": {},
   "source": [
    "# Task 4\n",
    "Python Program to Generate a Dictionary that Contains Numbers (between 1 and n) in the Form (x,x*x). "
   ]
  },
  {
   "cell_type": "code",
   "execution_count": 12,
   "metadata": {},
   "outputs": [
    {
     "name": "stdout",
     "output_type": "stream",
     "text": [
      "Enter a number: 20\n",
      "The dictionary with square is: \n",
      "{1: 1, 2: 4, 3: 9, 4: 16, 5: 25, 6: 36, 7: 49, 8: 64, 9: 81, 10: 100, 11: 121, 12: 144, 13: 169, 14: 196, 15: 225, 16: 256, 17: 289, 18: 324, 19: 361, 20: 400}\n"
     ]
    }
   ],
   "source": [
    "inp=int(input(\"Enter a number: \"))\n",
    "d={}\n",
    "for i in range(1,inp+1):    #OR {i:i*i for i in range (1,inp+1)}\n",
    "    d[i]=i*i\n",
    "print(\"The dictionary with square is: \")\n",
    "print(d)\n"
   ]
  },
  {
   "cell_type": "markdown",
   "metadata": {},
   "source": [
    "# Task 5\n",
    "Python Program to Sum All the Items in a Dictionary "
   ]
  },
  {
   "cell_type": "code",
   "execution_count": 19,
   "metadata": {},
   "outputs": [
    {
     "name": "stdout",
     "output_type": "stream",
     "text": [
      "sum of all values:  27\n"
     ]
    }
   ],
   "source": [
    "d={'a':1,'b':3,'c':5,'d':7,'e':11}\n",
    "Sum=sum(d.values())\n",
    "print(\"sum of all values: \",Sum)"
   ]
  },
  {
   "cell_type": "markdown",
   "metadata": {},
   "source": [
    "# Task 6:\n",
    "Python Program to Multiply All the Items in a Dictionary "
   ]
  },
  {
   "cell_type": "code",
   "execution_count": 21,
   "metadata": {},
   "outputs": [
    {
     "name": "stdout",
     "output_type": "stream",
     "text": [
      "1155\n"
     ]
    }
   ],
   "source": [
    "d={'a':1,'b':3,'c':5,'d':7,'e':11}\n",
    "total_result=1\n",
    "for x in d:\n",
    "    total_result=total_result*d[x]\n",
    "print(\"Multilication of all values is: \",total_result)"
   ]
  },
  {
   "cell_type": "markdown",
   "metadata": {},
   "source": [
    "# Task 7:\n",
    "Python Program to Remove the Given Key from a Dictionary "
   ]
  },
  {
   "cell_type": "code",
   "execution_count": 25,
   "metadata": {},
   "outputs": [
    {
     "name": "stdout",
     "output_type": "stream",
     "text": [
      "Enter a key to remove: a\n",
      "The key u enterend is removed successfully\n",
      "Updated dictionary is:  {'b': 3, 'c': 5, 'd': 7, 'e': 11}\n"
     ]
    }
   ],
   "source": [
    "d={'a':1,'b':3,'c':5,'d':7,'e':11}\n",
    "key=input(\"Enter a key to remove: \")\n",
    "if key in(d.keys()):\n",
    "    del d[key]\n",
    "    print(\"The key u enterend is removed successfully\")\n",
    "    print(\"Updated dictionary is: \",d)\n",
    "else:\n",
    "    print(\"Key is not present\")"
   ]
  },
  {
   "cell_type": "markdown",
   "metadata": {},
   "source": [
    "# Task 8:\n",
    "Python Program to Map Two Lists into a Dictionary "
   ]
  },
  {
   "cell_type": "code",
   "execution_count": 31,
   "metadata": {},
   "outputs": [
    {
     "name": "stdout",
     "output_type": "stream",
     "text": [
      "Enter the no of elements for dictionary: 4\n",
      "For keys:\n",
      "Enter key 1 : 1\n",
      "Enter key 2 : 2\n",
      "Enter key 3 : 3\n",
      "Enter key 4 : 4\n",
      "Enter value 1 : 2\n",
      "Enter value 2 : 4\n",
      "Enter value 3 : 6\n",
      "Enter value 4 : 8\n",
      "The dictionary is:  {'1': '2', '2': '4', '3': '6', '4': '8'}\n"
     ]
    }
   ],
   "source": [
    "l1=[]\n",
    "l2=[]\n",
    "\n",
    "inp=int(input(\"Enter the no of elements for dictionary: \"))\n",
    "print(\"For keys:\")\n",
    "for i in range(1,inp+1):\n",
    "    key_element=input(f\"Enter key {i} : \")\n",
    "    l1.append(key_element)\n",
    "for j in range(1,inp+1):\n",
    "    value_element=input(f\"Enter value {j} : \")\n",
    "    l2.append(value_element)\n",
    "print(\"The dictionary is: \",dict(zip(l1,l2)))\n",
    "    "
   ]
  },
  {
   "cell_type": "markdown",
   "metadata": {},
   "source": [
    "# Task 9:\n",
    "Python Program to Count the Frequency of Words Appearing in a String Using a Dictionary "
   ]
  },
  {
   "cell_type": "code",
   "execution_count": 37,
   "metadata": {},
   "outputs": [
    {
     "name": "stdout",
     "output_type": "stream",
     "text": [
      "{'hello': 1, 'world': 2, 'program': 1, 'test': 1, 'hii': 1}\n"
     ]
    },
    {
     "data": {
      "text/plain": [
       "[1, 2, 1, 2, 1, 1]"
      ]
     },
     "execution_count": 37,
     "metadata": {},
     "output_type": "execute_result"
    }
   ],
   "source": [
    "string=\"hello world program world test hii\"\n",
    "l1=string.split()\n",
    "l2=[]\n",
    "for words in l1:                #or  freq = [l1.count(words) for words in l1]\n",
    "    count=l1.count(words)            # print(dict(zip(l1,freq)))\n",
    "    l2.append(count)\n",
    "    \n",
    "print(dict(zip(l1,l2)))\n"
   ]
  },
  {
   "cell_type": "markdown",
   "metadata": {},
   "source": [
    "# Task 10:\n",
    "Python Program to Create a Dictionary with Key as First Character and Value as Words Starting with that Character "
   ]
  },
  {
   "cell_type": "code",
   "execution_count": 12,
   "metadata": {},
   "outputs": [
    {
     "name": "stdout",
     "output_type": "stream",
     "text": [
      "h : ['hello']\n",
      "w : ['world', 'we']\n",
      "t : ['this', 'testing']\n",
      "i : ['is']\n",
      "a : ['a', 'and', 'are']\n",
      "p : ['python', 'program']\n",
      "s : ['string']\n"
     ]
    }
   ],
   "source": [
    "dictionary={}\n",
    "string=\"hello world this is a python program and we are testing a string\"\n",
    "l1=string.split()\n",
    "\n",
    "for words in l1:\n",
    "    if words[0] not in dictionary.keys():\n",
    "        dictionary[words[0]]=[]\n",
    "        dictionary[words[0]].append(words)\n",
    "    else :\n",
    "        if(words not in dictionary[words[0]]):\n",
    "            dictionary[words[0]].append(words)\n",
    "for key,value in dictionary.items():\n",
    "        print(key,\":\",value)\n",
    "          "
   ]
  },
  {
   "cell_type": "code",
   "execution_count": 15,
   "metadata": {},
   "outputs": [],
   "source": []
  },
  {
   "cell_type": "code",
   "execution_count": null,
   "metadata": {},
   "outputs": [],
   "source": []
  },
  {
   "cell_type": "code",
   "execution_count": null,
   "metadata": {},
   "outputs": [],
   "source": []
  }
 ],
 "metadata": {
  "kernelspec": {
   "display_name": "Python 3",
   "language": "python",
   "name": "python3"
  },
  "language_info": {
   "codemirror_mode": {
    "name": "ipython",
    "version": 3
   },
   "file_extension": ".py",
   "mimetype": "text/x-python",
   "name": "python",
   "nbconvert_exporter": "python",
   "pygments_lexer": "ipython3",
   "version": "3.7.4"
  }
 },
 "nbformat": 4,
 "nbformat_minor": 2
}
