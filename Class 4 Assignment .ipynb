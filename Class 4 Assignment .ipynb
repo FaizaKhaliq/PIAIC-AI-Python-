{
 "cells": [
  {
   "cell_type": "markdown",
   "metadata": {},
   "source": [
    "# Python Class# 4 Assignment(List, Loops)\n"
   ]
  },
  {
   "cell_type": "markdown",
   "metadata": {},
   "source": [
    "# List \n"
   ]
  },
  {
   "cell_type": "code",
   "execution_count": 2,
   "metadata": {},
   "outputs": [
    {
     "data": {
      "text/plain": [
       "['__add__',\n",
       " '__class__',\n",
       " '__contains__',\n",
       " '__delattr__',\n",
       " '__delitem__',\n",
       " '__dir__',\n",
       " '__doc__',\n",
       " '__eq__',\n",
       " '__format__',\n",
       " '__ge__',\n",
       " '__getattribute__',\n",
       " '__getitem__',\n",
       " '__gt__',\n",
       " '__hash__',\n",
       " '__iadd__',\n",
       " '__imul__',\n",
       " '__init__',\n",
       " '__init_subclass__',\n",
       " '__iter__',\n",
       " '__le__',\n",
       " '__len__',\n",
       " '__lt__',\n",
       " '__mul__',\n",
       " '__ne__',\n",
       " '__new__',\n",
       " '__reduce__',\n",
       " '__reduce_ex__',\n",
       " '__repr__',\n",
       " '__reversed__',\n",
       " '__rmul__',\n",
       " '__setattr__',\n",
       " '__setitem__',\n",
       " '__sizeof__',\n",
       " '__str__',\n",
       " '__subclasshook__',\n",
       " 'append',\n",
       " 'clear',\n",
       " 'copy',\n",
       " 'count',\n",
       " 'extend',\n",
       " 'index',\n",
       " 'insert',\n",
       " 'pop',\n",
       " 'remove',\n",
       " 'reverse',\n",
       " 'sort']"
      ]
     },
     "execution_count": 2,
     "metadata": {},
     "output_type": "execute_result"
    }
   ],
   "source": [
    "dir(list)"
   ]
  },
  {
   "cell_type": "code",
   "execution_count": 14,
   "metadata": {},
   "outputs": [
    {
     "name": "stdout",
     "output_type": "stream",
     "text": [
      "['computer', 'maths', 'physics']\n",
      "['computer', 'maths', 'physics', 'chemistry']\n",
      "['computer', 'maths', 'physics', 'chemistry', 'biology']\n"
     ]
    }
   ],
   "source": [
    "List_sub=['computer','maths','physics']\n",
    "a=[1,2,3]\n",
    "print(List_sub)\n",
    "\n",
    "List_sub.append('chemistry')#Used for appending and adding elements to List.It is used to add elements to the last position of List.\n",
    "print(List_sub)\n",
    "List_sub.append('biology')\n",
    "print(List_sub)"
   ]
  },
  {
   "cell_type": "code",
   "execution_count": 28,
   "metadata": {},
   "outputs": [
    {
     "name": "stdout",
     "output_type": "stream",
     "text": [
      "['urdu', 'computer', 'maths', 'english', 'physics']\n"
     ]
    }
   ],
   "source": [
    "List_sub=['computer','maths','physics']\n",
    "\n",
    "List_sub.insert(0,'urdu')#Inserts an element at specified position. The first argument is the index of the element before which to insert.\n",
    "List_sub.insert(3,'english')\n",
    "\n",
    "print(List_sub)"
   ]
  },
  {
   "cell_type": "code",
   "execution_count": 21,
   "metadata": {},
   "outputs": [
    {
     "name": "stdout",
     "output_type": "stream",
     "text": [
      "['computer', 'maths', 'physics']\n",
      "[90, 80, 70]\n",
      "\n",
      "['computer', 'maths', 'physics', 90, 80, 70]\n",
      "[90, 80, 70]\n",
      "\n",
      "[90, 80, 70, 'computer', 'maths', 'physics', 90, 80, 70]\n",
      "['computer', 'maths', 'physics', 90, 80, 70]\n"
     ]
    }
   ],
   "source": [
    "List_sub=['computer','maths','physics']\n",
    "List_marks=[90,80,70]\n",
    "print(List_sub)\n",
    "print(List_marks, end=\"\\n\\n\")\n",
    "\n",
    "List_sub.extend(List_marks)#Adds contents of List_marks to the end of List_sub (but List_marks will remain unchanged here). This method allow us to join 2 lists together.\n",
    "print(List_sub)\n",
    "print(List_marks, end=\"\\n\\n\")\n",
    "\n",
    "List_marks.extend(List_sub)#Adds contents of List_sub to the end of List_marks.\n",
    "print(List_marks)\n",
    "print(List_sub) "
   ]
  },
  {
   "cell_type": "code",
   "execution_count": 39,
   "metadata": {},
   "outputs": [
    {
     "name": "stdout",
     "output_type": "stream",
     "text": [
      "[]\n",
      "\n",
      "[1, 2, 3, 4]\n",
      "[1, 2, 3, 4, 5, 6, 7]\n",
      "[1, 2, 3, 4, 5, 6, 7]\n",
      "\n",
      "[1, 2, 3, 4]\n",
      "[1, 2, 3, 4, 5, 6, 7, 8]\n",
      "[1, 2, 3, 4]\n",
      "\n"
     ]
    }
   ],
   "source": [
    "list1=[1,2,3,4]\n",
    "list2=[]\n",
    "list3=[5,6,7]\n",
    "print(list2, end='\\n\\n')\n",
    "\n",
    "list2=list1 #Shallow copy\n",
    "print(list2)\n",
    "list1.extend(list3)#Adding items of list3 in list1 \n",
    "print(list1)\n",
    "print(list2, end='\\n\\n')\n",
    "\n",
    "list1=[1,2,3,4]\n",
    "list2=[]\n",
    "list3=[5,6,7,8]\n",
    "\n",
    "list2=list1.copy()# Deep copy\n",
    "print(list2)\n",
    "list1.extend(list3)#Adding items of list3 in list1 \n",
    "print(list1)\n",
    "print(list2)\n",
    "\n"
   ]
  },
  {
   "cell_type": "code",
   "execution_count": 48,
   "metadata": {},
   "outputs": [
    {
     "name": "stdout",
     "output_type": "stream",
     "text": [
      "4\n",
      "0\n",
      "3\n",
      "\n",
      "2\n",
      "3\n"
     ]
    }
   ],
   "source": [
    "list1=['Punjab','Sindh','KPK','Balochistan','Punjab','Sindh','KPK','Balochistan','Sindh','Punjab','Punjab']\n",
    "\n",
    "a=list1.count('Punjab')# It returns occurrence of an element in a list\n",
    "b=list1.count('gilgit')\n",
    "c=list1.count('Sindh')\n",
    "print(a)\n",
    "print(b)\n",
    "print(c, end='\\n\\n')\n",
    "\n",
    "a=list1.index('KPK')#It returns smallest index of element in list\n",
    "print(a)\n",
    "print(list1.index('Balochistan'))"
   ]
  },
  {
   "cell_type": "code",
   "execution_count": 53,
   "metadata": {},
   "outputs": [
    {
     "name": "stdout",
     "output_type": "stream",
     "text": [
      "['Punjab', 'Punjab', 'Sindh', 'Balochistan', 'KPK', 'Sindh', 'Punjab', 'Balochistan', 'KPK', 'Sindh', 'Punjab']\n",
      "\n",
      "[11, 20, 29, 30, 56, 76, 80]\n",
      "['Balochistan', 'Balochistan', 'KPK', 'KPK', 'Punjab', 'Punjab', 'Punjab', 'Punjab', 'Sindh', 'Sindh', 'Sindh']\n",
      "\n",
      "[80, 76, 56, 30, 29, 20, 11]\n"
     ]
    }
   ],
   "source": [
    "list1=['Punjab','Sindh','KPK','Balochistan','Punjab','Sindh','KPK','Balochistan','Sindh','Punjab','Punjab']\n",
    "list2=[20,30,11,80,56,29,76]\n",
    "\n",
    "list1.reverse()#Simply reverses a List without any order\n",
    "print(list1, end='\\n\\n')\n",
    "\n",
    "list2.sort() #Sort a list in ascending order\n",
    "list1.sort()\n",
    "print(list2)\n",
    "print(list1, end='\\n\\n')\n",
    "\n",
    "list2.sort(reverse=True)#Sort a list in decending order\n",
    "print(list2)\n",
    "\n"
   ]
  },
  {
   "cell_type": "code",
   "execution_count": 69,
   "metadata": {},
   "outputs": [
    {
     "name": "stdout",
     "output_type": "stream",
     "text": [
      "[10, 30, 40, 50, 60, 70, 80]\n",
      "\n",
      "[10, 30, 40, 60, 70, 80]\n",
      "\n",
      "20\n",
      "[10, 11, 12, 13, 14, 15, 16, 17, 18, 19]\n",
      "11\n",
      "[10, 12, 13, 14, 15, 16, 17, 18, 19]\n",
      "\n",
      "[19]\n",
      "[10, 12, 13, 14, 15, 16, 17, 18]\n"
     ]
    }
   ],
   "source": [
    "list1=[10,20,30,40,50,60,70,80]\n",
    "del list1[1] #It's a keyword and delete the mentioned index value from the list. Doesn't return any value\n",
    "print(list1, end='\\n\\n')\n",
    "\n",
    "list1.remove(50)#List method, used to remove a specific value from the list. Doesn't return anything\n",
    "print(list1, end='\\n\\n')\n",
    "\n",
    "list2=[10,11,12,13,14,15,16,17,18,19,20]\n",
    "list3=[]\n",
    "a=list2.pop()#List method used to remove mentioned index value frm the list.If no index is specified, it removes and returns the last item in the list.\n",
    "print(a)\n",
    "print(list2)\n",
    "print(list2.pop(1))#here it removes and returns the specified index value\n",
    "print(list2, end='\\n\\n')\n",
    "\n",
    "a=list2.pop()\n",
    "list3.append(a)\n",
    "print(list3)\n",
    "print(list2)\n"
   ]
  },
  {
   "cell_type": "code",
   "execution_count": 71,
   "metadata": {},
   "outputs": [
    {
     "name": "stdout",
     "output_type": "stream",
     "text": [
      "[1, 2, 3, 4, 4, 5]\n",
      "[]\n"
     ]
    }
   ],
   "source": [
    "l1=[1,2,3,4,4,5]\n",
    "print(l1)\n",
    "l1.clear()#Removes all Items from the List\n",
    "print(l1)"
   ]
  },
  {
   "cell_type": "code",
   "execution_count": 2,
   "metadata": {},
   "outputs": [
    {
     "data": {
      "text/plain": [
       "list"
      ]
     },
     "execution_count": 2,
     "metadata": {},
     "output_type": "execute_result"
    }
   ],
   "source": [
    "l1=[1,2,3,4,5,'A','B','C','D','E']\n",
    "l1.__class__"
   ]
  },
  {
   "cell_type": "code",
   "execution_count": 18,
   "metadata": {},
   "outputs": [
    {
     "name": "stdout",
     "output_type": "stream",
     "text": [
      "[1, 2, 3, 'A', 'B', 'C']\n",
      "['A', 'B', 'C']\n"
     ]
    }
   ],
   "source": [
    "l1=[1,2,3]\n",
    "l2=['A','B','C']\n",
    "print(l1.__add__(l2))#Adds the items of l2 in l1\n",
    "print(l2)"
   ]
  },
  {
   "cell_type": "code",
   "execution_count": 7,
   "metadata": {},
   "outputs": [
    {
     "data": {
      "text/plain": [
       "True"
      ]
     },
     "execution_count": 7,
     "metadata": {},
     "output_type": "execute_result"
    }
   ],
   "source": [
    "l1=[1, 2, 3, 'A', 'B', 'C']\n",
    "l1.__contains__('A')#Returns true if list contains the given value"
   ]
  },
  {
   "cell_type": "code",
   "execution_count": 11,
   "metadata": {},
   "outputs": [
    {
     "name": "stdout",
     "output_type": "stream",
     "text": [
      "[1, 3, 'A', 'B', 'C']\n"
     ]
    }
   ],
   "source": [
    "l1=[1, 2, 3, 'A', 'B', 'C']\n",
    "l1.__delitem__(1)#Removes the given index value frm list\n",
    "print(l1)"
   ]
  },
  {
   "cell_type": "code",
   "execution_count": 21,
   "metadata": {},
   "outputs": [
    {
     "name": "stdout",
     "output_type": "stream",
     "text": [
      "False\n",
      "True\n"
     ]
    }
   ],
   "source": [
    "l1=[1,2,3]\n",
    "l2=['A','B','C']\n",
    "print(l1.__eq__(l2))#Returns true if boht lists have same values\n",
    "\n",
    "l2=[1,2,3]\n",
    "print(l1.__eq__(l2))\n"
   ]
  },
  {
   "cell_type": "code",
   "execution_count": 25,
   "metadata": {},
   "outputs": [
    {
     "data": {
      "text/plain": [
       "'Built-in mutable sequence.\\n\\nIf no argument is given, the constructor creates a new empty list.\\nThe argument must be an iterable if specified.'"
      ]
     },
     "execution_count": 25,
     "metadata": {},
     "output_type": "execute_result"
    }
   ],
   "source": [
    "l1.__doc__"
   ]
  },
  {
   "cell_type": "code",
   "execution_count": 26,
   "metadata": {},
   "outputs": [
    {
     "data": {
      "text/plain": [
       "<function list.__format__(format_spec, /)>"
      ]
     },
     "execution_count": 26,
     "metadata": {},
     "output_type": "execute_result"
    }
   ],
   "source": [
    "l1.__format__"
   ]
  },
  {
   "cell_type": "code",
   "execution_count": 28,
   "metadata": {},
   "outputs": [
    {
     "data": {
      "text/plain": [
       "2"
      ]
     },
     "execution_count": 28,
     "metadata": {},
     "output_type": "execute_result"
    }
   ],
   "source": [
    "l1=[1,2,3]\n",
    "l1.__getitem__(1)#Returns the list item at given index"
   ]
  },
  {
   "cell_type": "code",
   "execution_count": 69,
   "metadata": {},
   "outputs": [
    {
     "name": "stdout",
     "output_type": "stream",
     "text": [
      "True\n",
      "False\n",
      "\n",
      "False\n",
      "True\n",
      "\n",
      "True\n",
      "True\n"
     ]
    }
   ],
   "source": [
    "l1=[1,2,3,4]\n",
    "l2=[5,6,7,8]\n",
    "l3=[1,7,3,8]\n",
    "l4=[5,6,7,8]\n",
    "print(l2.__gt__(l1))#Returns true if list2 is greater than list1\n",
    "print(l1.__gt__(l3),end=\"\\n\\n\")\n",
    "\n",
    "print(l3.__lt__(l1))#Returns true if list3 is less than list1\n",
    "print(l1.__lt__(l2),end=\"\\n\\n\")\n",
    "\n",
    "print(l2.__ge__(l1))#Returns true if list2 is greater than or equals to list4\n",
    "print(l3.__le__(l2))#Returns true if list3 is less than or equals to list2\n"
   ]
  },
  {
   "cell_type": "code",
   "execution_count": 77,
   "metadata": {},
   "outputs": [
    {
     "name": "stdout",
     "output_type": "stream",
     "text": [
      "[5, 2, 3, 4]\n"
     ]
    }
   ],
   "source": [
    "l1=[1,2,3,4]\n",
    "l1.__setitem__(0,5)#Set the given valu/item to specified index(but can not set an item to a new index)\n",
    "print(l1)"
   ]
  },
  {
   "cell_type": "code",
   "execution_count": 82,
   "metadata": {},
   "outputs": [
    {
     "data": {
      "text/plain": [
       "5"
      ]
     },
     "execution_count": 82,
     "metadata": {},
     "output_type": "execute_result"
    }
   ],
   "source": [
    "l1=['a','b','c','d','e']\n",
    "l1.__len__()"
   ]
  },
  {
   "cell_type": "code",
   "execution_count": 90,
   "metadata": {},
   "outputs": [
    {
     "name": "stdout",
     "output_type": "stream",
     "text": [
      "88\n",
      "80\n"
     ]
    }
   ],
   "source": [
    "l1=['a','b','c','d','e']\n",
    "l2=[1,2,3,4,5,6]\n",
    "print(l2.__sizeof__())# Return the size of the list in memory, in bytes\n",
    "print(l1.__sizeof__())"
   ]
  },
  {
   "cell_type": "code",
   "execution_count": 93,
   "metadata": {},
   "outputs": [
    {
     "data": {
      "text/plain": [
       "<list_reverseiterator at 0x2020f8e29c8>"
      ]
     },
     "execution_count": 93,
     "metadata": {},
     "output_type": "execute_result"
    }
   ],
   "source": [
    "l1=['a','b','c','d','e']\n",
    "l1.__reversed__()#Return a reverse iterator over the list."
   ]
  },
  {
   "cell_type": "code",
   "execution_count": 107,
   "metadata": {},
   "outputs": [
    {
     "name": "stdout",
     "output_type": "stream",
     "text": [
      "[1, 2, 3, 4, 1, 2, 3, 4, 1, 2, 3, 4]\n"
     ]
    }
   ],
   "source": [
    "l1=[1,2,3,4]\n",
    "l2=[5,6,7,8]\n",
    "print(l1.__mul__(3))#works same as [1,2,3,4]*3\n",
    "\n"
   ]
  },
  {
   "cell_type": "markdown",
   "metadata": {},
   "source": [
    "# Loops"
   ]
  },
  {
   "cell_type": "code",
   "execution_count": 1,
   "metadata": {},
   "outputs": [
    {
     "name": "stdout",
     "output_type": "stream",
     "text": [
      "I am Pakistani 0\n",
      "I am Pakistani 1\n",
      "I am Pakistani 2\n",
      "I am Pakistani 3\n",
      "I am Pakistani 4\n",
      "I am Pakistani 5\n"
     ]
    }
   ],
   "source": [
    "count=0 #counter\n",
    "while count<=5: #logic\n",
    "    print(\"I am Pakistani\",count)\n",
    "    count+=1 #increment\n"
   ]
  },
  {
   "cell_type": "code",
   "execution_count": 4,
   "metadata": {},
   "outputs": [
    {
     "name": "stdout",
     "output_type": "stream",
     "text": [
      "I am Pakistani 500\n",
      "I am Pakistani 499\n",
      "I am Pakistani 498\n",
      "I am Pakistani 497\n",
      "I am Pakistani 496\n",
      "I am Pakistani 495\n",
      "I am Pakistani 494\n",
      "I am Pakistani 493\n",
      "I am Pakistani 492\n",
      "I am Pakistani 491\n",
      "I am Pakistani 490\n",
      "I am Pakistani 489\n",
      "I am Pakistani 488\n",
      "I am Pakistani 487\n",
      "I am Pakistani 486\n",
      "I am Pakistani 485\n",
      "I am Pakistani 484\n",
      "I am Pakistani 483\n",
      "I am Pakistani 482\n",
      "I am Pakistani 481\n"
     ]
    }
   ],
   "source": [
    "count=500 #counter\n",
    "while count>480: #logic\n",
    "    print(\"I am Pakistani\",count)\n",
    "    count-=1 #decrement\n"
   ]
  },
  {
   "cell_type": "code",
   "execution_count": 8,
   "metadata": {},
   "outputs": [
    {
     "name": "stdout",
     "output_type": "stream",
     "text": [
      "Hello 1\n",
      "Hello 2\n",
      "Hello 3\n",
      "Hello 4\n",
      "Hello 5\n",
      "Hello 6\n",
      "Hello 7\n",
      "Hello 8\n",
      "Hello 9\n",
      "Hello 10\n"
     ]
    }
   ],
   "source": [
    "# for(counter;logic;inreament/Decreament)----> previous language syntax\n",
    "for i in range(1,11):\n",
    "    print(\"Hello\",i)"
   ]
  },
  {
   "cell_type": "code",
   "execution_count": 15,
   "metadata": {},
   "outputs": [
    {
     "data": {
      "text/plain": [
       "['Hello1',\n",
       " 'Hello2',\n",
       " 'Hello3',\n",
       " 'Hello4',\n",
       " 'Hello5',\n",
       " 'Hello6',\n",
       " 'Hello7',\n",
       " 'Hello8',\n",
       " 'Hello9',\n",
       " 'Hello10']"
      ]
     },
     "execution_count": 15,
     "metadata": {},
     "output_type": "execute_result"
    }
   ],
   "source": [
    "#for loop in list comprehensive form\n",
    "[\"Hello\"+str(i) for i in range(1,11)]"
   ]
  },
  {
   "cell_type": "code",
   "execution_count": 1,
   "metadata": {},
   "outputs": [
    {
     "name": "stdout",
     "output_type": "stream",
     "text": [
      "2 x 1 = 2\n",
      "2 x 2 = 4\n",
      "2 x 3 = 6\n",
      "2 x 4 = 8\n",
      "2 x 5 = 10\n",
      "2 x 6 = 12\n",
      "2 x 7 = 14\n",
      "2 x 8 = 16\n",
      "2 x 9 = 18\n",
      "2 x 10 = 20\n"
     ]
    }
   ],
   "source": [
    "#Table of 2\n",
    "for i in range(1,11):\n",
    "    #print(f\"2 x {i} = {2*i}\")\n",
    "    print(\"2 x \"+str(i)+\" = \"+str(2*i))"
   ]
  },
  {
   "cell_type": "code",
   "execution_count": 2,
   "metadata": {},
   "outputs": [
    {
     "name": "stdout",
     "output_type": "stream",
     "text": [
      "3 x 1 = 3  3 x 2 = 6  3 x 3 = 9  3 x 4 = 12  3 x 5 = 15  3 x 6 = 18  3 x 7 = 21  3 x 8 = 24  3 x 9 = 27  3 x 10 = 30  "
     ]
    },
    {
     "data": {
      "text/plain": [
       "['3 x 1 = 3',\n",
       " '3 x 2 = 6',\n",
       " '3 x 3 = 9',\n",
       " '3 x 4 = 12',\n",
       " '3 x 5 = 15',\n",
       " '3 x 6 = 18',\n",
       " '3 x 7 = 21',\n",
       " '3 x 8 = 24',\n",
       " '3 x 9 = 27',\n",
       " '3 x 10 = 30']"
      ]
     },
     "execution_count": 2,
     "metadata": {},
     "output_type": "execute_result"
    }
   ],
   "source": [
    "#Table of 3\n",
    "for i in range(1,11):\n",
    "    print(f\"3 x {i} = {3*i}\", end=\"  \")\n",
    "\n",
    "[f\"3 x {i} = {3*i}\" for i in range(1,11)] # List comprehensive form"
   ]
  },
  {
   "cell_type": "code",
   "execution_count": 5,
   "metadata": {},
   "outputs": [
    {
     "name": "stdout",
     "output_type": "stream",
     "text": [
      "please enter the table number u want to print form 1 to 4\n",
      "\n",
      "Table of 1\n",
      "1 X 1 = 1\n",
      "1 X 2 = 2\n",
      "1 X 3 = 3\n",
      "1 X 4 = 4\n",
      "1 X 5 = 5\n",
      "1 X 6 = 6\n",
      "1 X 7 = 7\n",
      "1 X 8 = 8\n",
      "1 X 9 = 9\n",
      "1 X 10 = 10\n",
      "\n",
      "Table of 2\n",
      "2 X 1 = 2\n",
      "2 X 2 = 4\n",
      "2 X 3 = 6\n",
      "2 X 4 = 8\n",
      "2 X 5 = 10\n",
      "2 X 6 = 12\n",
      "2 X 7 = 14\n",
      "2 X 8 = 16\n",
      "2 X 9 = 18\n",
      "2 X 10 = 20\n",
      "\n",
      "Table of 3\n",
      "3 X 1 = 3\n",
      "3 X 2 = 6\n",
      "3 X 3 = 9\n",
      "3 X 4 = 12\n",
      "3 X 5 = 15\n",
      "3 X 6 = 18\n",
      "3 X 7 = 21\n",
      "3 X 8 = 24\n",
      "3 X 9 = 27\n",
      "3 X 10 = 30\n",
      "\n",
      "Table of 4\n",
      "4 X 1 = 4\n",
      "4 X 2 = 8\n",
      "4 X 3 = 12\n",
      "4 X 4 = 16\n",
      "4 X 5 = 20\n",
      "4 X 6 = 24\n",
      "4 X 7 = 28\n",
      "4 X 8 = 32\n",
      "4 X 9 = 36\n",
      "4 X 10 = 40\n"
     ]
    }
   ],
   "source": [
    "#to print tables from 1 to the table # entered by user\n",
    "user_input=int(input(\"please enter the table number u want to print form 1 to \" ))\n",
    "for i in range (1,user_input+1):\n",
    "    print()\n",
    "    print(f\"Table of {i}\")\n",
    "    for j in range(1,11):\n",
    "        print(f\"{i} X {j} = {i*j}\")\n",
    "        \n"
   ]
  },
  {
   "cell_type": "code",
   "execution_count": 13,
   "metadata": {},
   "outputs": [
    {
     "name": "stdout",
     "output_type": "stream",
     "text": [
      "please enter the table number u want to print form 1 to 6\n",
      "\n",
      "1 X 1 = 1\t2 X 1 = 2\t3 X 1 = 3\t4 X 1 = 4\t5 X 1 = 5\t6 X 1 = 6\t\n",
      "1 X 2 = 2\t2 X 2 = 4\t3 X 2 = 6\t4 X 2 = 8\t5 X 2 = 10\t6 X 2 = 12\t\n",
      "1 X 3 = 3\t2 X 3 = 6\t3 X 3 = 9\t4 X 3 = 12\t5 X 3 = 15\t6 X 3 = 18\t\n",
      "1 X 4 = 4\t2 X 4 = 8\t3 X 4 = 12\t4 X 4 = 16\t5 X 4 = 20\t6 X 4 = 24\t\n",
      "1 X 5 = 5\t2 X 5 = 10\t3 X 5 = 15\t4 X 5 = 20\t5 X 5 = 25\t6 X 5 = 30\t\n",
      "1 X 6 = 6\t2 X 6 = 12\t3 X 6 = 18\t4 X 6 = 24\t5 X 6 = 30\t6 X 6 = 36\t\n",
      "1 X 7 = 7\t2 X 7 = 14\t3 X 7 = 21\t4 X 7 = 28\t5 X 7 = 35\t6 X 7 = 42\t\n",
      "1 X 8 = 8\t2 X 8 = 16\t3 X 8 = 24\t4 X 8 = 32\t5 X 8 = 40\t6 X 8 = 48\t\n",
      "1 X 9 = 9\t2 X 9 = 18\t3 X 9 = 27\t4 X 9 = 36\t5 X 9 = 45\t6 X 9 = 54\t\n",
      "1 X 10 = 10\t2 X 10 = 20\t3 X 10 = 30\t4 X 10 = 40\t5 X 10 = 50\t6 X 10 = 60\t"
     ]
    }
   ],
   "source": [
    "#to print tables from 1 to the table # entered by user \n",
    "user_input=int(input(\"Please enter the table number u want to print form 1 to \" ))\n",
    "for j in range(1,11):\n",
    "    print()\n",
    "    for i in range (1,user_input+1):\n",
    "        print(f\"{i} X {j} = {i*j}\", end=\"\\t\")\n",
    "   \n",
    "        "
   ]
  },
  {
   "cell_type": "code",
   "execution_count": 14,
   "metadata": {},
   "outputs": [
    {
     "name": "stdout",
     "output_type": "stream",
     "text": [
      "P lease enter the Table number to start with: 5\n",
      "Please enter the Table number to end on: 10\n",
      "Enter starting # of range: 4\n",
      "Enter ending # of range: 14\n",
      "\n",
      "Table of 5\n",
      "5 X 4 = 20\n",
      "5 X 5 = 25\n",
      "5 X 6 = 30\n",
      "5 X 7 = 35\n",
      "5 X 8 = 40\n",
      "5 X 9 = 45\n",
      "5 X 10 = 50\n",
      "5 X 11 = 55\n",
      "5 X 12 = 60\n",
      "5 X 13 = 65\n",
      "5 X 14 = 70\n",
      "\n",
      "Table of 6\n",
      "6 X 4 = 24\n",
      "6 X 5 = 30\n",
      "6 X 6 = 36\n",
      "6 X 7 = 42\n",
      "6 X 8 = 48\n",
      "6 X 9 = 54\n",
      "6 X 10 = 60\n",
      "6 X 11 = 66\n",
      "6 X 12 = 72\n",
      "6 X 13 = 78\n",
      "6 X 14 = 84\n",
      "\n",
      "Table of 7\n",
      "7 X 4 = 28\n",
      "7 X 5 = 35\n",
      "7 X 6 = 42\n",
      "7 X 7 = 49\n",
      "7 X 8 = 56\n",
      "7 X 9 = 63\n",
      "7 X 10 = 70\n",
      "7 X 11 = 77\n",
      "7 X 12 = 84\n",
      "7 X 13 = 91\n",
      "7 X 14 = 98\n",
      "\n",
      "Table of 8\n",
      "8 X 4 = 32\n",
      "8 X 5 = 40\n",
      "8 X 6 = 48\n",
      "8 X 7 = 56\n",
      "8 X 8 = 64\n",
      "8 X 9 = 72\n",
      "8 X 10 = 80\n",
      "8 X 11 = 88\n",
      "8 X 12 = 96\n",
      "8 X 13 = 104\n",
      "8 X 14 = 112\n",
      "\n",
      "Table of 9\n",
      "9 X 4 = 36\n",
      "9 X 5 = 45\n",
      "9 X 6 = 54\n",
      "9 X 7 = 63\n",
      "9 X 8 = 72\n",
      "9 X 9 = 81\n",
      "9 X 10 = 90\n",
      "9 X 11 = 99\n",
      "9 X 12 = 108\n",
      "9 X 13 = 117\n",
      "9 X 14 = 126\n",
      "\n",
      "Table of 10\n",
      "10 X 4 = 40\n",
      "10 X 5 = 50\n",
      "10 X 6 = 60\n",
      "10 X 7 = 70\n",
      "10 X 8 = 80\n",
      "10 X 9 = 90\n",
      "10 X 10 = 100\n",
      "10 X 11 = 110\n",
      "10 X 12 = 120\n",
      "10 X 13 = 130\n",
      "10 X 14 = 140\n"
     ]
    }
   ],
   "source": [
    "#to print tables of user entered rangess \n",
    "user_input1=int(input(\"P lease enter the Table number to start with: \"))\n",
    "user_input2=int(input(\"Please enter the Table number to end on: \" ))\n",
    "user_range1=int(input(\"Enter starting # of range: \"))\n",
    "user_range2=int(input(\"Enter ending # of range: \"))\n",
    "\n",
    "for i in range (user_input1,user_input2+1):\n",
    "    print()\n",
    "    print(f\"Table of {i}\")\n",
    "    for j in range(user_range1,user_range2+1):\n",
    "        print(f\"{i} X {j} = {i*j}\")\n"
   ]
  },
  {
   "cell_type": "code",
   "execution_count": 22,
   "metadata": {},
   "outputs": [
    {
     "name": "stdout",
     "output_type": "stream",
     "text": [
      "P lease enter the Table number to start with: 15\n",
      "Please enter the Table number to end on: 20\n",
      "Enter starting # of range: 20\n",
      "Enter ending # of range: 30\n",
      "\n",
      "15 X 20 = 300\t16 X 20 = 320\t17 X 20 = 340\t18 X 20 = 360\t19 X 20 = 380\t20 X 20 = 400\t\n",
      "15 X 21 = 315\t16 X 21 = 336\t17 X 21 = 357\t18 X 21 = 378\t19 X 21 = 399\t20 X 21 = 420\t\n",
      "15 X 22 = 330\t16 X 22 = 352\t17 X 22 = 374\t18 X 22 = 396\t19 X 22 = 418\t20 X 22 = 440\t\n",
      "15 X 23 = 345\t16 X 23 = 368\t17 X 23 = 391\t18 X 23 = 414\t19 X 23 = 437\t20 X 23 = 460\t\n",
      "15 X 24 = 360\t16 X 24 = 384\t17 X 24 = 408\t18 X 24 = 432\t19 X 24 = 456\t20 X 24 = 480\t\n",
      "15 X 25 = 375\t16 X 25 = 400\t17 X 25 = 425\t18 X 25 = 450\t19 X 25 = 475\t20 X 25 = 500\t\n",
      "15 X 26 = 390\t16 X 26 = 416\t17 X 26 = 442\t18 X 26 = 468\t19 X 26 = 494\t20 X 26 = 520\t\n",
      "15 X 27 = 405\t16 X 27 = 432\t17 X 27 = 459\t18 X 27 = 486\t19 X 27 = 513\t20 X 27 = 540\t\n",
      "15 X 28 = 420\t16 X 28 = 448\t17 X 28 = 476\t18 X 28 = 504\t19 X 28 = 532\t20 X 28 = 560\t\n",
      "15 X 29 = 435\t16 X 29 = 464\t17 X 29 = 493\t18 X 29 = 522\t19 X 29 = 551\t20 X 29 = 580\t\n",
      "15 X 30 = 450\t16 X 30 = 480\t17 X 30 = 510\t18 X 30 = 540\t19 X 30 = 570\t20 X 30 = 600\t"
     ]
    }
   ],
   "source": [
    "user_input1=int(input(\"P lease enter the Table number to start with: \"))\n",
    "user_input2=int(input(\"Please enter the Table number to end on: \" ))\n",
    "user_range1=int(input(\"Enter starting # of range: \"))\n",
    "user_range2=int(input(\"Enter ending # of range: \"))\n",
    "\n",
    "for j in range(user_range1,user_range2+1):\n",
    "    print()\n",
    "    for i in range (user_input1,user_input2+1):\n",
    "        print(f\"{i} X {j} = {i*j}\", end=\"\\t\")\n",
    "        "
   ]
  },
  {
   "cell_type": "code",
   "execution_count": null,
   "metadata": {},
   "outputs": [],
   "source": []
  }
 ],
 "metadata": {
  "kernelspec": {
   "display_name": "Python 3",
   "language": "python",
   "name": "python3"
  },
  "language_info": {
   "codemirror_mode": {
    "name": "ipython",
    "version": 3
   },
   "file_extension": ".py",
   "mimetype": "text/x-python",
   "name": "python",
   "nbconvert_exporter": "python",
   "pygments_lexer": "ipython3",
   "version": "3.7.4"
  }
 },
 "nbformat": 4,
 "nbformat_minor": 2
}
