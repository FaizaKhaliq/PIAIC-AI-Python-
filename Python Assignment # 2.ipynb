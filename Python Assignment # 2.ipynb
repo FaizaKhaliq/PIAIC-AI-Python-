{
 "cells": [
  {
   "cell_type": "markdown",
   "metadata": {},
   "source": [
    "# 20 oprand with different oprators"
   ]
  },
  {
   "cell_type": "code",
   "execution_count": 1,
   "metadata": {},
   "outputs": [
    {
     "data": {
      "text/plain": [
       "4"
      ]
     },
     "execution_count": 1,
     "metadata": {},
     "output_type": "execute_result"
    }
   ],
   "source": [
    "2+2"
   ]
  },
  {
   "cell_type": "code",
   "execution_count": 2,
   "metadata": {},
   "outputs": [
    {
     "data": {
      "text/plain": [
       "35"
      ]
     },
     "execution_count": 2,
     "metadata": {},
     "output_type": "execute_result"
    }
   ],
   "source": [
    "100-65\n"
   ]
  },
  {
   "cell_type": "code",
   "execution_count": 5,
   "metadata": {},
   "outputs": [
    {
     "data": {
      "text/plain": [
       "2520"
      ]
     },
     "execution_count": 5,
     "metadata": {},
     "output_type": "execute_result"
    }
   ],
   "source": [
    "45*56\n"
   ]
  },
  {
   "cell_type": "code",
   "execution_count": 9,
   "metadata": {},
   "outputs": [
    {
     "data": {
      "text/plain": [
       "125"
      ]
     },
     "execution_count": 9,
     "metadata": {},
     "output_type": "execute_result"
    }
   ],
   "source": [
    "5**3"
   ]
  },
  {
   "cell_type": "code",
   "execution_count": 8,
   "metadata": {},
   "outputs": [
    {
     "data": {
      "text/plain": [
       "10.0"
      ]
     },
     "execution_count": 8,
     "metadata": {},
     "output_type": "execute_result"
    }
   ],
   "source": [
    "40/4"
   ]
  },
  {
   "cell_type": "code",
   "execution_count": 10,
   "metadata": {},
   "outputs": [
    {
     "data": {
      "text/plain": [
       "10"
      ]
     },
     "execution_count": 10,
     "metadata": {},
     "output_type": "execute_result"
    }
   ],
   "source": [
    "40//4"
   ]
  },
  {
   "cell_type": "code",
   "execution_count": 11,
   "metadata": {},
   "outputs": [
    {
     "data": {
      "text/plain": [
       "4"
      ]
     },
     "execution_count": 11,
     "metadata": {},
     "output_type": "execute_result"
    }
   ],
   "source": [
    "40%6"
   ]
  },
  {
   "cell_type": "code",
   "execution_count": 33,
   "metadata": {},
   "outputs": [
    {
     "data": {
      "text/plain": [
       "812.0"
      ]
     },
     "execution_count": 33,
     "metadata": {},
     "output_type": "execute_result"
    }
   ],
   "source": [
    "100 + 800 + (100^20) - 500 * 4 / 2 + 200 *4 + (60//6) * (90+10%2) - (8**4) % 2 - 90 * 10 - 2000 // 400 ** 2 % 10\n"
   ]
  },
  {
   "cell_type": "code",
   "execution_count": 54,
   "metadata": {},
   "outputs": [
    {
     "data": {
      "text/plain": [
       "-493462057.9"
      ]
     },
     "execution_count": 54,
     "metadata": {},
     "output_type": "execute_result"
    }
   ],
   "source": [
    "200 % 20 / 2 - 1 * 999 + 1000 - 800  // 80 + 5 ** 10 - 3 * 15 // 55 - 80 * 5 -9000000 + 20000 % 10 - 400000 + 10 - 99999 / 10 -22222 ** 2"
   ]
  },
  {
   "cell_type": "markdown",
   "metadata": {},
   "source": [
    "# String data type Methods"
   ]
  },
  {
   "cell_type": "code",
   "execution_count": 55,
   "metadata": {},
   "outputs": [
    {
     "data": {
      "text/plain": [
       "['__add__',\n",
       " '__class__',\n",
       " '__contains__',\n",
       " '__delattr__',\n",
       " '__dir__',\n",
       " '__doc__',\n",
       " '__eq__',\n",
       " '__format__',\n",
       " '__ge__',\n",
       " '__getattribute__',\n",
       " '__getitem__',\n",
       " '__getnewargs__',\n",
       " '__gt__',\n",
       " '__hash__',\n",
       " '__init__',\n",
       " '__init_subclass__',\n",
       " '__iter__',\n",
       " '__le__',\n",
       " '__len__',\n",
       " '__lt__',\n",
       " '__mod__',\n",
       " '__mul__',\n",
       " '__ne__',\n",
       " '__new__',\n",
       " '__reduce__',\n",
       " '__reduce_ex__',\n",
       " '__repr__',\n",
       " '__rmod__',\n",
       " '__rmul__',\n",
       " '__setattr__',\n",
       " '__sizeof__',\n",
       " '__str__',\n",
       " '__subclasshook__',\n",
       " 'capitalize',\n",
       " 'casefold',\n",
       " 'center',\n",
       " 'count',\n",
       " 'encode',\n",
       " 'endswith',\n",
       " 'expandtabs',\n",
       " 'find',\n",
       " 'format',\n",
       " 'format_map',\n",
       " 'index',\n",
       " 'isalnum',\n",
       " 'isalpha',\n",
       " 'isascii',\n",
       " 'isdecimal',\n",
       " 'isdigit',\n",
       " 'isidentifier',\n",
       " 'islower',\n",
       " 'isnumeric',\n",
       " 'isprintable',\n",
       " 'isspace',\n",
       " 'istitle',\n",
       " 'isupper',\n",
       " 'join',\n",
       " 'ljust',\n",
       " 'lower',\n",
       " 'lstrip',\n",
       " 'maketrans',\n",
       " 'partition',\n",
       " 'replace',\n",
       " 'rfind',\n",
       " 'rindex',\n",
       " 'rjust',\n",
       " 'rpartition',\n",
       " 'rsplit',\n",
       " 'rstrip',\n",
       " 'split',\n",
       " 'splitlines',\n",
       " 'startswith',\n",
       " 'strip',\n",
       " 'swapcase',\n",
       " 'title',\n",
       " 'translate',\n",
       " 'upper',\n",
       " 'zfill']"
      ]
     },
     "execution_count": 55,
     "metadata": {},
     "output_type": "execute_result"
    }
   ],
   "source": [
    "a=\"Faiza Khaliq\"\n",
    "dir(a)"
   ]
  },
  {
   "cell_type": "code",
   "execution_count": 59,
   "metadata": {},
   "outputs": [
    {
     "name": "stdout",
     "output_type": "stream",
     "text": [
      "Faiza Khaliq\n",
      "Faiza khaliq\n",
      "faiza khaliq\n",
      "FAIZA KHALIQ\n",
      "Faiza Khaliq\n"
     ]
    }
   ],
   "source": [
    "a=\"Faiza Khaliq\"\n",
    "print(a)\n",
    "print(a.capitalize()) #capitalize the 1st character of string only\n",
    "\n",
    "print(a.lower()) #cnverts string into lower case\n",
    "\n",
    "print(a.upper()) #cnverts string into upper case\n",
    "\n",
    "print(a.title()) #converts the 1st alphabet of each word into capital"
   ]
  },
  {
   "cell_type": "code",
   "execution_count": 61,
   "metadata": {},
   "outputs": [
    {
     "name": "stdout",
     "output_type": "stream",
     "text": [
      "HELLO WORLD\n",
      "False\n",
      "True\n",
      "False\n",
      "True\n"
     ]
    }
   ],
   "source": [
    "b=\"HELLO WORLD\"\n",
    "print(b)\n",
    "\n",
    "print(b.islower()) #Returns true if String’s alphabetic characters are all in lower case\n",
    "\n",
    "print(b.isupper()) #Returns true if String’s alphabetic characters are all in upper case\n",
    "\n",
    "print(b.istitle())#Returns true if String is in title case\n",
    "print(a.istitle())\n",
    "\n",
    "\n"
   ]
  },
  {
   "cell_type": "code",
   "execution_count": 106,
   "metadata": {},
   "outputs": [
    {
     "name": "stdout",
     "output_type": "stream",
     "text": [
      "True\tFalse\tFalse\tFalse\tFalse\n",
      "True\tFalse\tFalse\tFalse\tFalse\n",
      "True\tFalse\n",
      "True\tTrue\tTrue\tFalse\tFalse\n"
     ]
    }
   ],
   "source": [
    "a=\"FaizaKhaliq123\"\n",
    "b=\"HELLOWORLD\"\n",
    "c=\"12345\"\n",
    "d=\" \"\n",
    "e=\"FaizaKhaliq123@@\"\n",
    "\n",
    "print(b.isalpha(),end=\"\\t\") #Returns true if String consists of only alphabetic characters\n",
    "print(a.isalpha(), end=\"\\t\")\n",
    "print(c.isalpha(),end=\"\\t\") \n",
    "print(d.isalpha(),end=\"\\t\")\n",
    "print(e.isalpha()) \n",
    "\n",
    "print(c.isnumeric(),end=\"\\t\")#Returns true if String consists of only numeric characters\n",
    "print(a.isnumeric(),end=\"\\t\")\n",
    "print(b.isnumeric(),end=\"\\t\")\n",
    "print(d.isnumeric(),end=\"\\t\")\n",
    "print(e.isnumeric())\n",
    "\n",
    "print(d.isspace(),end=\"\\t\")#Returns true if String consists of only whitespace characters\n",
    "print(b.isspace())\n",
    "\n",
    "print(a.isalnum(),end=\"\\t\")#Returns ture if String consists of alphanumeric characters without any symbol and white spaces\n",
    "print(b.isalnum(),end=\"\\t\")\n",
    "print(c.isalnum(),end=\"\\t\")\n",
    "print(d.isalnum(),end=\"\\t\")\n",
    "print(e.isalnum())\n",
    "\n",
    "\n"
   ]
  },
  {
   "cell_type": "code",
   "execution_count": 119,
   "metadata": {},
   "outputs": [
    {
     "name": "stdout",
     "output_type": "stream",
     "text": [
      "9\t27\n",
      "3\t2\n",
      "                          My country name is Pakistan                           \n",
      "6\n",
      "7\n"
     ]
    }
   ],
   "source": [
    "nationality='Pakistani'\n",
    "country = \"My country name is Pakistan\"\n",
    "\n",
    "print(len(nationality),end='\\t')#Returns the number of characters in a string\n",
    "print(len(country))\n",
    "\n",
    "print(country.count(\"a\"),end='\\t')#Returns number of occurrences of substring in string\n",
    "print(nationality.count(\"i\"))\n",
    "\n",
    "print(country.center(80))#It Pads string with specified character\n",
    "\n",
    "print(country.find('n'))#Returns the index of first occurrence of substring\n",
    "\n",
    "print(country.index('t'))#Returns Index of Substring\n"
   ]
  },
  {
   "cell_type": "code",
   "execution_count": 134,
   "metadata": {},
   "outputs": [
    {
     "name": "stdout",
     "output_type": "stream",
     "text": [
      "My country name is Pakistan\n",
      "True\t\tFalse\n",
      "True\t\tFalse\n",
      "True\t\tFalse\n"
     ]
    }
   ],
   "source": [
    "country = \"My country name is Pakistan\"\n",
    "w=\"©\"\n",
    "x='111111'\n",
    "y='faiza123'\n",
    "\n",
    "print(country)\n",
    "print(country.isascii(),end='\\t\\t')#This method checks whether the string contains ASCII characters\n",
    "print(w.isascii())\n",
    "\n",
    "print(x.isdigit(),end='\\t\\t')#Returns true If all characters in the string are only digits.\n",
    "print(y.isdigit())\n",
    "\n",
    "print(x.isdecimal(), end='\\t\\t')#Returns true if string have any decimal value\n",
    "print(y.isdecimal())\n",
    " #Note: The superscript and subscripts are considered digit characters but not decimals\n",
    "        #If the string contains these characters (usually written using unicode), isdecimal() will returns False."
   ]
  },
  {
   "cell_type": "code",
   "execution_count": 142,
   "metadata": {},
   "outputs": [
    {
     "name": "stdout",
     "output_type": "stream",
     "text": [
      "True\t\tFalse\t\tTrue\t\tFalse\n",
      "True\t\tFalse\t\tTrue\n"
     ]
    }
   ],
   "source": [
    "a=\"faiza\"\n",
    "b=\"123\"\n",
    "c=\"_abc12\"\n",
    "d=\"#abc\"\n",
    "\n",
    "w = '\\n New Line is printable \\t'\n",
    "x=\"\"\n",
    "\n",
    "print(a.isidentifier(),end='\\t\\t')#Returns for Valid Identifier\n",
    "print(b.isidentifier(),end='\\t\\t')\n",
    "print(c.isidentifier(),end='\\t\\t')\n",
    "print(d.isidentifier())\n",
    "#Note: An identifier must begin with either an alphabet or underscore, it can't begin with digit or any other special character, moreover, digits can come after.\n",
    "\n",
    "\n",
    "print(a.isprintable(),end='\\t\\t')#Returns true if the string is empty or all characters in the string are printable\n",
    "print(w.isprintable(),end='\\t\\t')\n",
    "print(x.isprintable())\n"
   ]
  },
  {
   "cell_type": "code",
   "execution_count": 147,
   "metadata": {},
   "outputs": [
    {
     "name": "stdout",
     "output_type": "stream",
     "text": [
      "My country name is Pakistan\n",
      "My country name is Pakistan***********************\n",
      "My country name is Pakistan                       \n",
      "***********************My country name is Pakistan\n",
      "                       My country name is Pakistan\n"
     ]
    }
   ],
   "source": [
    "country = \"My country name is Pakistan\"\n",
    "print(country)\n",
    "\n",
    "print(country.ljust(50,'*'))#Returns left-justified string of given width\n",
    "print(country.ljust(50))\n",
    "\n",
    "print(country.rjust(50,'*'))#Returns right-justified string of given width\n",
    "print(country.rjust(50))\n"
   ]
  },
  {
   "cell_type": "code",
   "execution_count": 157,
   "metadata": {},
   "outputs": [
    {
     "name": "stdout",
     "output_type": "stream",
     "text": [
      "hello i am an engineer\n",
      "['hello', 'i', 'am', 'an', 'engineer']\n",
      "['hello', 'i', 'am', 'an', 'engineer']\n",
      "['hello i am ', ' an engineer ', ' and i am ', ' a Pakistani']\n",
      "['hello', 'i', 'am', 'an', 'engineer']\n",
      "a--b--c--d--e\n",
      "a b c d e\n"
     ]
    }
   ],
   "source": [
    "txt=\"hello i am an engineer\"\n",
    "txt1=\"hello:i:am:an:engineer\"\n",
    "txt2=\"hello i am \\n an engineer \\n and i am \\n a Pakistani\"\n",
    "\n",
    "txt4=['a','b','c','d','e']\n",
    "\n",
    "print(txt)\n",
    "print(txt.split())#Split the string from left on basis of spaces and give result in list\n",
    "print(txt1.split(\":\"))#Split on basis of ' : '\n",
    "print(txt2.splitlines())#Split the lines at line boundaries.It returns a list of lines in the string\n",
    "\n",
    "print(txt.rsplit())#Split the string from right and give result in list\n",
    "\n",
    "print('--'.join(txt4))#It takes all items in an iterable and joins them into one string. Returns a string in which the elements of sequence have been joined by str separator.\n",
    "print(\" \".join(txt4))"
   ]
  },
  {
   "cell_type": "code",
   "execution_count": 186,
   "metadata": {},
   "outputs": [
    {
     "name": "stdout",
     "output_type": "stream",
     "text": [
      "Faiza khaliq\n",
      " Faiza khalq \n",
      "aiza khaliq\n",
      " Faiza khalq \n",
      "Faiza khali\n",
      " Faiza khalq \n",
      "aiza khali\n"
     ]
    }
   ],
   "source": [
    "a=\"Faiza khaliq\"\n",
    "b=\" Faiza khalq \"\n",
    "print(a)\n",
    "print(b)\n",
    "print(a.lstrip(\"F\"))#Removes leading characters based on the argument\n",
    "print(b.lstrip(\"\"))\n",
    "\n",
    "print(a.rstrip(\"q\"))#Removes trailing characters based on the argument\n",
    "print(b.rstrip(\"\"))\n",
    "\n",
    "print(a.strip(\"F,q\"))#Removes both leading and trailing characters"
   ]
  },
  {
   "cell_type": "code",
   "execution_count": 182,
   "metadata": {},
   "outputs": [
    {
     "name": "stdout",
     "output_type": "stream",
     "text": [
      "i am Faiza khaliq and i am a student\n",
      "('i am Faiza khaliq ', 'and', ' i am a student')\n",
      "('i am Faiza khaliq and i am a student', '', '')\n",
      "b'i am Faiza khaliq and i am a student'\n",
      "True\n",
      "True\n"
     ]
    }
   ],
   "source": [
    "a=\"i am Faiza khaliq and i am a student\"\n",
    "print(a)\n",
    "print(a.partition(\"and\"))#Splits the string at the first occurrence of the argument string and returns a tuple containing the part the before separator, argument string and the part after the separator.\n",
    "print(a.partition(\",\"))\n",
    "\n",
    "print(a.encode())#Returns encoded string of given string\n",
    "\n",
    "print(a.startswith(\"i am\"))#Check and returns true if String Starts with the Specified String\n",
    "\n",
    "print(a.endswith(\"am a student\"))#Check and returns true if String Ends with the Specified String"
   ]
  },
  {
   "cell_type": "code",
   "execution_count": 192,
   "metadata": {},
   "outputs": [
    {
     "name": "stdout",
     "output_type": "stream",
     "text": [
      "hello\ti am\tfaiza\n",
      "hello       i am        faiza\n",
      "hello   i am    faiza\n",
      "hello pakistan\n",
      "i am a student i am learning python\n",
      "My Name is Faiza Khaliq\n"
     ]
    }
   ],
   "source": [
    "strr = 'hello\\ti am\\tfaiza'\n",
    "txt=\"HELLO PAKISTAN\"\n",
    "print(strr)\n",
    "print(strr.expandtabs(12))#The expandtabs() takes an integer tabsize argument. The default tabsize is 8.It returns a string where all '\\t' characters are replaced with whitespaces\n",
    "print(strr.expandtabs())\n",
    "\n",
    "print(txt.casefold())#Converts to casefolded strings\n",
    "\n",
    "print(\"{} i am learning python\".format(\"i am a student\"))#Formats string into nicer output\n",
    "\n",
    "fullname='My Name is {n1} {n2}'\n",
    "print(fullname.format(n1='Faiza',n2='Khaliq')) \n"
   ]
  },
  {
   "cell_type": "code",
   "execution_count": null,
   "metadata": {},
   "outputs": [],
   "source": []
  }
 ],
 "metadata": {
  "celltoolbar": "Raw Cell Format",
  "kernelspec": {
   "display_name": "Python 3",
   "language": "python",
   "name": "python3"
  },
  "language_info": {
   "codemirror_mode": {
    "name": "ipython",
    "version": 3
   },
   "file_extension": ".py",
   "mimetype": "text/x-python",
   "name": "python",
   "nbconvert_exporter": "python",
   "pygments_lexer": "ipython3",
   "version": "3.7.4"
  }
 },
 "nbformat": 4,
 "nbformat_minor": 2
}
